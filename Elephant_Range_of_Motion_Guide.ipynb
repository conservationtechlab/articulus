{
  "nbformat": 4,
  "nbformat_minor": 0,
  "metadata": {
    "colab": {
      "provenance": []
    },
    "kernelspec": {
      "name": "python3",
      "display_name": "Python 3"
    }
  },
  "cells": [
    {
      "cell_type": "markdown",
      "source": [
        "# Range of Motion Analysis\n",
        "\n",
        "---\n",
        "\n",
        "## Instructions\n",
        "\n",
        "This process requires deeplabcut [link] and the configuration file and model provided by the SDZWA Conservation Technology Lab [link].\n",
        "\n",
        "Preprocessing steps:\n",
        "\n",
        "\n",
        "1.   Download and unzip the project [link]\n",
        "2.   Install and open deeplabcut.\n",
        "3.   Open the config file from within deeplabcut.\n",
        "4.   Analyze selected videos, making sure to select the option to save results as csv. \n",
        "5.   With the csv files, apply the calculations below.\n",
        " \n",
        "\n"
      ],
      "metadata": {
        "id": "Y_A6Bd3x76Dd"
      }
    },
    {
      "cell_type": "code",
      "metadata": {
        "id": "DbNC0wgpGMRD"
      },
      "source": [
        "import numpy as np\n",
        "import pandas as pd\n",
        "import math\n",
        "import seaborn as sns\n",
        "import matplotlib.pyplot as plt\n"
      ],
      "execution_count": 1,
      "outputs": []
    },
    {
      "cell_type": "markdown",
      "metadata": {
        "id": "xCdsUJEoEQYA"
      },
      "source": [
        "Each joint comprises two vectors, one from point P1 to P2 (vector a) and one from P1 to P3 (vector b), with P1 as the vertex. The length of each vector is \n",
        "\n",
        "a = (p1.x - p2.x, p1.y - p2.y)<br>\n",
        "b = (p1.x - p3.x, p1.y - p3.y)\n",
        "\n",
        "You can then invert the dot product formula to get the angle between the two vectors:<br>\n",
        "![alt text](https://i.stack.imgur.com/WM5f7.png) <br>\n",
        "Remember that dot product just means: a1*b1 + a2*b2 (just 2 dimensions here...)\n",
        "\n",
        "Here we define a function to calculate the angle given three [x,y] points. "
      ]
    },
    {
      "cell_type": "code",
      "source": [
        "def angle(p1,p2,p3,): # three [x,y] pairs with p2 as the vertex\n",
        "  if(p1 and p2 and p3):\n",
        "    dot = ((p1[0] - p2[0]) * (p3[0] - p2[0])) + ((p1[1] - p2[1]) * (p3[1] - p2[1]))\n",
        "    s12 = np.sqrt((p1[0] - p2[0])**2 + (p1[1] - p2[1])**2)\n",
        "    s23 = np.sqrt((p3[0] - p2[0])**2 + (p3[1] - p2[1])**2)\n",
        "    ratio = dot/(s12*s23)\n",
        "    angle = math.degrees(np.arccos(ratio))\n",
        "    return angle\n",
        "  else:\n",
        "    print(\"Points not defined\")\n",
        "    return 0"
      ],
      "metadata": {
        "id": "p83YP9hI-DNg"
      },
      "execution_count": null,
      "outputs": []
    },
    {
      "cell_type": "markdown",
      "source": [
        "The function below "
      ],
      "metadata": {
        "id": "p67NSQtxR6hA"
      }
    },
    {
      "cell_type": "code",
      "metadata": {
        "id": "dbIUay4dD_Wn"
      },
      "source": [
        "def read(dfile,side):\n",
        "  elephantdata = pd.read_csv(dfile,header=[1,2]).drop(\"bodyparts\",axis=1)\n",
        "\n",
        "  elbowAngles = np.zeros((len(elephantdata)))\n",
        "  wristAngles = np.zeros((len(elephantdata)))\n",
        "  kneeAngles = np.zeros((len(elephantdata)))\n",
        "  ankleAngles = np.zeros((len(elephantdata)))\n",
        "  for i,frame in elephantdata.iterrows():\n",
        "    \n",
        "    if side == \"Left\":\n",
        "      elbowAngles[i] = angle((frame[\"leftshoulder\"][\"x\"],frame[\"leftshoulder\"][\"y\"]),\n",
        "                  (frame[\"leftelbow\"][\"x\"],frame[\"leftelbow\"][\"y\"]),\n",
        "                  (frame[\"leftwrist\"][\"x\"],frame[\"leftwrist\"][\"y\"])) \n",
        "      wristAngles[i] = angle((frame[\"leftelbow\"][\"x\"],frame[\"leftelbow\"][\"y\"]),\n",
        "                  (frame[\"leftwrist\"][\"x\"],frame[\"leftwrist\"][\"y\"]),\n",
        "                  (frame[\"leftforefoot\"][\"x\"],frame[\"leftforefoot\"][\"y\"]))    \n",
        "      kneeAngles[i] = angle((frame[\"lefthip\"][\"x\"],frame[\"lefthip\"][\"y\"]),\n",
        "                  (frame[\"leftknee\"][\"x\"],frame[\"leftknee\"][\"y\"]),\n",
        "                  (frame[\"leftankle\"][\"x\"],frame[\"leftankle\"][\"y\"])) \n",
        "      ankleAngles[i] = angle((frame[\"leftknee\"][\"x\"],frame[\"leftknee\"][\"y\"]),\n",
        "                  (frame[\"leftankle\"][\"x\"],frame[\"leftankle\"][\"y\"]),\n",
        "                  (frame[\"lefthindfoot\"][\"x\"],frame[\"lefthindfoot\"][\"y\"])) \n",
        "\n",
        "    elif side == \"Right\":\n",
        "      elbowAngles[i] = angle((frame[\"rightshoulder\"][\"x\"],frame[\"rightshoulder\"][\"y\"]),\n",
        "                  (frame[\"rightelbow\"][\"x\"],frame[\"rightelbow\"][\"y\"]),\n",
        "                  (frame[\"rightwrist\"][\"x\"],frame[\"rightwrist\"][\"y\"]))\n",
        "      kneeAngles[i] = angle((frame[\"rightelbow\"][\"x\"],frame[\"rightelbow\"][\"y\"]),\n",
        "                  (frame[\"rightwrist\"][\"x\"],frame[\"rightwrist\"][\"y\"]),\n",
        "                  (frame[\"rightforefoot\"][\"x\"],frame[\"rightforefoot\"][\"y\"]))\n",
        "      stifleAngles[i] = angle((frame[\"righthip\"][\"x\"],frame[\"righthip\"][\"y\"]),\n",
        "                  (frame[\"rightknee\"][\"x\"],frame[\"rightknee\"][\"y\"]),\n",
        "                  (frame[\"rightankle\"][\"x\"],frame[\"rightankle\"][\"y\"]))\n",
        "      ankleAngles[i] = angle((frame[\"rightknee\"][\"x\"],frame[\"rightknee\"][\"y\"]),\n",
        "                  (frame[\"rightankle\"][\"x\"],frame[\"rightankle\"][\"y\"]),\n",
        "                  (frame[\"righthindfoot\"][\"x\"],frame[\"righthindfoot\"][\"y\"]))\n",
        "       \n",
        "  return pd.DataFrame({ \"Elbow\" : elbowAngles,\n",
        "                        \"Wrist\" : wristAngles,\n",
        "                        \"Knee\" : kneeAngles,\n",
        "                        \"Ankle\" : ankleAngles,\n",
        "  })"
      ],
      "execution_count": null,
      "outputs": []
    },
    {
      "cell_type": "code",
      "metadata": {
        "id": "afdJYopGiYfx",
        "outputId": "2d3d005c-72d8-48ed-d89a-c0cd4986c5da",
        "colab": {
          "base_uri": "https://localhost:8080/",
          "height": 71
        }
      },
      "source": [
        "# Shanthi FACING LEFT\n",
        "Shanthi1 = \"/content/Shanthi_Left_2020-05-06DLC_resnet50_Elephant2.2Jul10shuffle1_100000.csv\"\n",
        "ShanthiL1 = read(Shanthi1, \"Left\")\n",
        "\n",
        "# Shanthi FACING LEFT\n",
        "Shanthi2 = \"/content/Shanthi_Left_2019-01-04DLC_resnet50_Elephant2.2Jul10shuffle1_100000.csv\"\n",
        "ShanthiL2 = read(Shanthi2, \"Left\")\n",
        "\n",
        "ShanthiL = pd.concat([ShanthiL1,ShanthiL2])"
      ],
      "execution_count": null,
      "outputs": [
        {
          "output_type": "stream",
          "text": [
            "/usr/local/lib/python3.6/dist-packages/pandas/core/generic.py:3887: PerformanceWarning: dropping on a non-lexsorted multi-index without a level parameter may impact performance.\n",
            "  obj = obj._drop_axis(labels, axis, level=level, errors=errors)\n"
          ],
          "name": "stderr"
        }
      ]
    },
    {
      "cell_type": "code",
      "metadata": {
        "id": "OWX1qIsETsGf",
        "outputId": "deb9007a-47f7-498f-f490-2c5e9203efbb",
        "colab": {
          "base_uri": "https://localhost:8080/",
          "height": 420
        }
      },
      "source": [
        "ax1 = plt.subplot(3,1,1)\n",
        "sns.distplot(ShanthiL1[\"Knee\"])\n",
        "plt.xlim(90,180)\n",
        "plt.ylabel(\"Shanthi 1 \")\n",
        "plt.subplot(3,1,2,sharex=ax1)\n",
        "sns.distplot(ShanthiL2[\"Knee\"])\n",
        "plt.ylabel(\"Shanthi 2 \")\n",
        "plt.subplot(3,1,3,sharex=ax1)\n",
        "sns.distplot(ShanthiL[\"Knee\"])\n",
        "plt.ylabel(\"Shanthi Left\")\n",
        "plt.xlabel(\"Elbow Angle\")"
      ],
      "execution_count": null,
      "outputs": [
        {
          "output_type": "stream",
          "text": [
            "/usr/local/lib/python3.6/dist-packages/seaborn/distributions.py:2551: FutureWarning: `distplot` is a deprecated function and will be removed in a future version. Please adapt your code to use either `displot` (a figure-level function with similar flexibility) or `histplot` (an axes-level function for histograms).\n",
            "  warnings.warn(msg, FutureWarning)\n",
            "/usr/local/lib/python3.6/dist-packages/seaborn/distributions.py:2551: FutureWarning: `distplot` is a deprecated function and will be removed in a future version. Please adapt your code to use either `displot` (a figure-level function with similar flexibility) or `histplot` (an axes-level function for histograms).\n",
            "  warnings.warn(msg, FutureWarning)\n",
            "/usr/local/lib/python3.6/dist-packages/seaborn/distributions.py:2551: FutureWarning: `distplot` is a deprecated function and will be removed in a future version. Please adapt your code to use either `displot` (a figure-level function with similar flexibility) or `histplot` (an axes-level function for histograms).\n",
            "  warnings.warn(msg, FutureWarning)\n"
          ],
          "name": "stderr"
        },
        {
          "output_type": "execute_result",
          "data": {
            "text/plain": [
              "Text(0.5, 0, 'Elbow Angle')"
            ]
          },
          "metadata": {
            "tags": []
          },
          "execution_count": 9
        },
        {
          "output_type": "display_data",
          "data": {
            "image/png": "[encoded data removed]",
            "text/plain": [
              "<Figure size 432x288 with 3 Axes>"
            ]
          },
          "metadata": {
            "tags": [],
            "needs_background": "light"
          }
        }
      ]
    }
  ]
}
