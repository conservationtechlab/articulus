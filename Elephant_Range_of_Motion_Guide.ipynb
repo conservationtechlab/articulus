{
 "cells": [
  {
   "cell_type": "markdown",
   "metadata": {
    "id": "Y_A6Bd3x76Dd"
   },
   "source": [
    "# Range of Motion Analysis\n",
    "\n",
    "---\n",
    "\n",
    "## Instructions\n",
    "\n",
    "This process requires deeplabcut [link] and the configuration file and model provided by the SDZWA Conservation Technology Lab [link].\n",
    "\n",
    "Preprocessing steps:\n",
    "\n",
    "\n",
    "1.   Download and unzip the project [link]\n",
    "2.   Install and open deeplabcut.\n",
    "3.   Open the config file from within deeplabcut.\n",
    "4.   Analyze selected videos, making sure to select the option to save results as csv. \n",
    "5.   With the csv files, apply the calculations below.\n",
    " \n",
    "\n"
   ]
  },
  {
   "cell_type": "code",
   "execution_count": null,
   "metadata": {},
   "outputs": [],
   "source": [
    "# Step 1: Download articulus\n",
    "!pwd"
   ]
  },
  {
   "cell_type": "code",
   "execution_count": null,
   "metadata": {},
   "outputs": [],
   "source": [
    "config_path = \"/config.yaml\""
   ]
  },
  {
   "cell_type": "markdown",
   "metadata": {},
   "source": [
    "## Step 2: Install deeplabcut"
   ]
  },
  {
   "cell_type": "code",
   "execution_count": null,
   "metadata": {},
   "outputs": [],
   "source": [
    "!pip install deeplabcut"
   ]
  },
  {
   "cell_type": "code",
   "execution_count": null,
   "metadata": {
    "id": "DbNC0wgpGMRD"
   },
   "outputs": [],
   "source": [
    "import numpy as np\n",
    "import pandas as pd\n",
    "import math\n",
    "import os\n",
    "import seaborn as sns\n",
    "import matplotlib.pyplot as plt"
   ]
  },
  {
   "cell_type": "markdown",
   "metadata": {},
   "source": [
    "## Step 3: Upload Videos"
   ]
  },
  {
   "cell_type": "code",
   "execution_count": null,
   "metadata": {
    "scrolled": false
   },
   "outputs": [],
   "source": [
    "# If using Google Colab \n",
    "from google.colab import files\n",
    "videos = files.upload()"
   ]
  },
  {
   "cell_type": "code",
   "execution_count": null,
   "metadata": {
    "scrolled": true
   },
   "outputs": [],
   "source": [
    "# If using Jupyter Notebook\n",
    "\n",
    "path = input(r\"Enter the path of the folder: \")\n",
    "print(f\"Files in the directory: {path}\")\n",
    "\n",
    "videos = os.listdir(path)\n",
    "videos = [v for v in videos if v.lower().endswith(('.mp4', '.avi', '.mov'))]"
   ]
  },
  {
   "cell_type": "code",
   "execution_count": null,
   "metadata": {
    "scrolled": true
   },
   "outputs": [],
   "source": [
    "videos"
   ]
  },
  {
   "cell_type": "markdown",
   "metadata": {},
   "source": [
    "## Step 4: Analyze Videos"
   ]
  },
  {
   "cell_type": "code",
   "execution_count": null,
   "metadata": {
    "scrolled": true
   },
   "outputs": [],
   "source": [
    "deeplabcut.analyze_videos(config_path, videos, save_as_csv=True, destfolder=path, dynamic=(True, .5, 10))"
   ]
  },
  {
   "cell_type": "markdown",
   "metadata": {
    "id": "xCdsUJEoEQYA"
   },
   "source": [
    "## Step 5: Calculate Angles\n",
    "Each joint comprises two vectors, one from point P1 to P2 (vector a) and one from P1 to P3 (vector b), with P1 as the vertex. The length of each vector is \n",
    "\n",
    "a = (p1.x - p2.x, p1.y - p2.y)<br>\n",
    "b = (p1.x - p3.x, p1.y - p3.y)\n",
    "\n",
    "You can then invert the dot product formula to get the angle between the two vectors:<br>\n",
    "![alt text](https://i.stack.imgur.com/WM5f7.png) <br>\n",
    "Remember that dot product just means: a1*b1 + a2*b2 (just 2 dimensions here...)\n",
    "\n",
    "Here we define a function to calculate the angle given three [x,y] points. "
   ]
  },
  {
   "cell_type": "code",
   "execution_count": null,
   "metadata": {
    "id": "p83YP9hI-DNg"
   },
   "outputs": [],
   "source": [
    "def angle(p1,p2,p3,): # three [x,y] pairs with p2 as the vertex\n",
    "    if(p1 and p2 and p3):\n",
    "        dot = ((p1[0] - p2[0]) * (p3[0] - p2[0])) + ((p1[1] - p2[1]) * (p3[1] - p2[1]))\n",
    "        s12 = np.sqrt((p1[0] - p2[0])**2 + (p1[1] - p2[1])**2)\n",
    "        s23 = np.sqrt((p3[0] - p2[0])**2 + (p3[1] - p2[1])**2)\n",
    "        ratio = dot/(s12*s23)\n",
    "        angle = math.degrees(np.arccos(ratio))\n",
    "        return angle\n",
    "    else:\n",
    "        print(\"Points not defined\")\n",
    "        return 0"
   ]
  },
  {
   "cell_type": "markdown",
   "metadata": {
    "id": "p67NSQtxR6hA"
   },
   "source": [
    "The function below "
   ]
  },
  {
   "cell_type": "code",
   "execution_count": null,
   "metadata": {
    "id": "dbIUay4dD_Wn"
   },
   "outputs": [],
   "source": [
    "def read(dfile,side):\n",
    "    elephantdata = pd.read_csv(dfile,header=[1,2]).drop(\"bodyparts\",axis=1)\n",
    "\n",
    "    elbowAngles = np.zeros((len(elephantdata)))\n",
    "    wristAngles = np.zeros((len(elephantdata)))\n",
    "    kneeAngles = np.zeros((len(elephantdata)))\n",
    "    ankleAngles = np.zeros((len(elephantdata)))\n",
    "    for i,frame in elephantdata.iterrows():\n",
    "\n",
    "    if side == \"Left\":\n",
    "        elbowAngles[i] = angle((frame[\"leftshoulder\"][\"x\"],frame[\"leftshoulder\"][\"y\"]),\n",
    "                  (frame[\"leftelbow\"][\"x\"],frame[\"leftelbow\"][\"y\"]),\n",
    "                  (frame[\"leftwrist\"][\"x\"],frame[\"leftwrist\"][\"y\"])) \n",
    "        wristAngles[i] = angle((frame[\"leftelbow\"][\"x\"],frame[\"leftelbow\"][\"y\"]),\n",
    "                  (frame[\"leftwrist\"][\"x\"],frame[\"leftwrist\"][\"y\"]),\n",
    "                  (frame[\"leftforefoot\"][\"x\"],frame[\"leftforefoot\"][\"y\"]))    \n",
    "        kneeAngles[i] = angle((frame[\"lefthip\"][\"x\"],frame[\"lefthip\"][\"y\"]),\n",
    "                  (frame[\"leftknee\"][\"x\"],frame[\"leftknee\"][\"y\"]),\n",
    "                  (frame[\"leftankle\"][\"x\"],frame[\"leftankle\"][\"y\"])) \n",
    "        ankleAngles[i] = angle((frame[\"leftknee\"][\"x\"],frame[\"leftknee\"][\"y\"]),\n",
    "                  (frame[\"leftankle\"][\"x\"],frame[\"leftankle\"][\"y\"]),\n",
    "                  (frame[\"lefthindfoot\"][\"x\"],frame[\"lefthindfoot\"][\"y\"])) \n",
    "\n",
    "    elif side == \"Right\":\n",
    "        elbowAngles[i] = angle((frame[\"rightshoulder\"][\"x\"],frame[\"rightshoulder\"][\"y\"]),\n",
    "                  (frame[\"rightelbow\"][\"x\"],frame[\"rightelbow\"][\"y\"]),\n",
    "                  (frame[\"rightwrist\"][\"x\"],frame[\"rightwrist\"][\"y\"]))\n",
    "        kneeAngles[i] = angle((frame[\"rightelbow\"][\"x\"],frame[\"rightelbow\"][\"y\"]),\n",
    "                  (frame[\"rightwrist\"][\"x\"],frame[\"rightwrist\"][\"y\"]),\n",
    "                  (frame[\"rightforefoot\"][\"x\"],frame[\"rightforefoot\"][\"y\"]))\n",
    "        stifleAngles[i] = angle((frame[\"righthip\"][\"x\"],frame[\"righthip\"][\"y\"]),\n",
    "                  (frame[\"rightknee\"][\"x\"],frame[\"rightknee\"][\"y\"]),\n",
    "                  (frame[\"rightankle\"][\"x\"],frame[\"rightankle\"][\"y\"]))\n",
    "        ankleAngles[i] = angle((frame[\"rightknee\"][\"x\"],frame[\"rightknee\"][\"y\"]),\n",
    "                  (frame[\"rightankle\"][\"x\"],frame[\"rightankle\"][\"y\"]),\n",
    "                  (frame[\"righthindfoot\"][\"x\"],frame[\"righthindfoot\"][\"y\"]))\n",
    "\n",
    "    return pd.DataFrame({\"Elbow\" : elbowAngles,\n",
    "                        \"Wrist\" : wristAngles,\n",
    "                        \"Knee\" : kneeAngles,\n",
    "                        \"Ankle\" : ankleAngles,\n",
    "    })"
   ]
  },
  {
   "cell_type": "code",
   "execution_count": null,
   "metadata": {
    "colab": {
     "base_uri": "https://localhost:8080/",
     "height": 71
    },
    "id": "afdJYopGiYfx",
    "outputId": "2d3d005c-72d8-48ed-d89a-c0cd4986c5da"
   },
   "outputs": [],
   "source": [
    "# example\n",
    "Shanthi1 = \"/content/Shanthi_Left_2020-05-06DLC_resnet50_Elephant2.2Jul10shuffle1_100000.csv\"\n",
    "ShanthiL1 = read(Shanthi1, \"Left\")"
   ]
  },
  {
   "cell_type": "code",
   "execution_count": null,
   "metadata": {
    "colab": {
     "base_uri": "https://localhost:8080/",
     "height": 420
    },
    "id": "OWX1qIsETsGf",
    "outputId": "deb9007a-47f7-498f-f490-2c5e9203efbb"
   },
   "outputs": [],
   "source": [
    "ax1 = plt.subplot(3,1,1)\n",
    "sns.distplot(ShanthiL1[\"Knee\"])\n",
    "plt.xlim(90,180)\n",
    "plt.ylabel(\"Shanthi 1 \")\n",
    "plt.subplot(3,1,2,sharex=ax1)\n",
    "sns.distplot(ShanthiL2[\"Knee\"])\n",
    "plt.ylabel(\"Shanthi 2 \")\n",
    "plt.subplot(3,1,3,sharex=ax1)\n",
    "sns.distplot(ShanthiL[\"Knee\"])\n",
    "plt.ylabel(\"Shanthi Left\")\n",
    "plt.xlabel(\"Elbow Angle\")"
   ]
  }
 ],
 "metadata": {
  "colab": {
   "provenance": []
  },
  "kernelspec": {
   "display_name": "Python 3 (ipykernel)",
   "language": "python",
   "name": "python3"
  },
  "language_info": {
   "codemirror_mode": {
    "name": "ipython",
    "version": 3
   },
   "file_extension": ".py",
   "mimetype": "text/x-python",
   "name": "python",
   "nbconvert_exporter": "python",
   "pygments_lexer": "ipython3",
   "version": "3.8.15"
  }
 },
 "nbformat": 4,
 "nbformat_minor": 1
}
